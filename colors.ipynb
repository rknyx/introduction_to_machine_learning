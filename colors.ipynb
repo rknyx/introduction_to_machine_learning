{
 "cells": [
  {
   "cell_type": "code",
   "execution_count": 1,
   "metadata": {
    "collapsed": false
   },
   "outputs": [],
   "source": [
    "import pandas\n",
    "from skimage import img_as_float\n",
    "from skimage.io import imread\n",
    "image = imread('/home/rk/submissions/parrots.jpg')\n",
    "image_float = img_as_float(image)\n",
    "(height, width, _) = image_float.shape\n",
    "\n",
    "matrix = image_float.reshape((height*width, 3))"
   ]
  },
  {
   "cell_type": "code",
   "execution_count": 47,
   "metadata": {
    "collapsed": false
   },
   "outputs": [],
   "source": [
    "from sklearn.cluster import KMeans\n",
    "kmeans = KMeans(init='k-means++', random_state=241, n_clusters=3)\n",
    "res = kmeans.fit_predict(matrix)"
   ]
  },
  {
   "cell_type": "code",
   "execution_count": 48,
   "metadata": {
    "collapsed": false
   },
   "outputs": [],
   "source": [
    "def find_pixels_with_cluster(pixel_list, clusters_data, cluster_num):\n",
    "    _res = []\n",
    "    i = 0\n",
    "    for pixel in pixel_list:\n",
    "        if clusters_data[i] == cluster_num:\n",
    "            _res.append(pixel)\n",
    "        i += 1\n",
    "    return _res\n",
    "\n",
    "clusters_pixels = [find_pixels_with_cluster(matrix, res, _x) for _x in xrange(0, kmeans.n_clusters)]"
   ]
  },
  {
   "cell_type": "code",
   "execution_count": 49,
   "metadata": {
    "collapsed": false
   },
   "outputs": [],
   "source": [
    "import numpy as np\n",
    "means = []\n",
    "medians = []\n",
    "for i in xrange(0, kmeans.n_clusters):\n",
    "    means.append(np.mean(clusters_pixels[i], axis=0))\n",
    "    medians.append(np.median(clusters_pixels[i], axis=0))"
   ]
  },
  {
   "cell_type": "code",
   "execution_count": 50,
   "metadata": {
    "collapsed": false
   },
   "outputs": [],
   "source": [
    "meaned_matrix = np.ndarray((height*width, 3))\n",
    "median_matrix = np.ndarray((height*width, 3))\n",
    "for i in range(kmeans.n_clusters):\n",
    "    meaned_matrix[res==i] = np.mean(matrix[res==i], axis=0)\n",
    "    median_matrix[res==i] = np.median(matrix[res==i], axis=0)"
   ]
  },
  {
   "cell_type": "code",
   "execution_count": 51,
   "metadata": {
    "collapsed": false
   },
   "outputs": [],
   "source": [
    "meaned_image = np.copy(meaned_matrix).reshape((len(image_float), len(image_float[0]), 3))\n",
    "median_image = np.copy(median_matrix).reshape((len(image_float), len(image_float[0]), 3))"
   ]
  },
  {
   "cell_type": "code",
   "execution_count": 52,
   "metadata": {
    "collapsed": false
   },
   "outputs": [
    {
     "name": "stdout",
     "output_type": "stream",
     "text": [
      "13.2387651244\n"
     ]
    }
   ],
   "source": [
    "def MSE(original, compressed):\n",
    "    (d1,d2,d3) = original.shape\n",
    "    return np.square(original - compressed).sum() / float(d1*d2*d3)\n",
    "    \n",
    "def PSNR(original, compressed):\n",
    "    return 10 * np.log10(1.0 / MSE(original, compressed))\n",
    "\n",
    "print PSNR(image_float, meaned_image)\n",
    "# print MSE(image_float, meaned_image)\n",
    "# print MSE(image_float, median_image)\n",
    "import matplotlib.pyplot as plt\n",
    "# # import matplotlib.image as mpimg\n",
    "\n",
    "imgplot = plt.imshow(meaned_image)\n",
    "plt.show()\n"
   ]
  },
  {
   "cell_type": "code",
   "execution_count": 44,
   "metadata": {
    "collapsed": false
   },
   "outputs": [],
   "source": [
    "with open('/home/rk/submissions/colors/answer1.txt', 'w') as f:\n",
    "    f.write('11')"
   ]
  }
 ],
 "metadata": {
  "kernelspec": {
   "display_name": "Python 2",
   "language": "python",
   "name": "python2"
  },
  "language_info": {
   "codemirror_mode": {
    "name": "ipython",
    "version": 2
   },
   "file_extension": ".py",
   "mimetype": "text/x-python",
   "name": "python",
   "nbconvert_exporter": "python",
   "pygments_lexer": "ipython2",
   "version": "2.7.10"
  }
 },
 "nbformat": 4,
 "nbformat_minor": 0
}
