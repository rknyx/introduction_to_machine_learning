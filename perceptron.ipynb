{
 "cells": [
  {
   "cell_type": "code",
   "execution_count": 21,
   "metadata": {
    "collapsed": false
   },
   "outputs": [
    {
     "data": {
      "text/plain": [
       "0.56500000000000006"
      ]
     },
     "execution_count": 21,
     "metadata": {},
     "output_type": "execute_result"
    }
   ],
   "source": [
    "import numpy as np\n",
    "import pandas\n",
    "from sklearn.linear_model import Perceptron\n",
    "from sklearn.preprocessing import StandardScaler\n",
    "\n",
    "from sklearn.metrics import accuracy_score\n",
    "scaler = StandardScaler()\n",
    "train_data = pandas.read_csv('~/submissions/perceptron/train.csv', header=None)\n",
    "test_data = pandas.read_csv('~/submissions/perceptron/test.csv', header=None)\n",
    "\n",
    "train_target = train_data[0]\n",
    "train_features = train_data[[1,2]]\n",
    "\n",
    "test_target = test_data[0]\n",
    "test_features = test_data[[1,2]]\n",
    "\n",
    "clf = Perceptron(random_state=241)\n",
    "clf.fit(train_features, train_target)\n",
    "predicted = clf.predict(test_features)\n",
    "\n",
    "score_no_standartization = accuracy_score(test_target, predicted)\n",
    "####\n",
    "\n",
    "train_target = train_data[0]\n",
    "train_features = scaler.fit_transform(train_data[[1,2]])\n",
    "\n",
    "test_target = test_data[0]\n",
    "test_features = scaler.transform(test_data[[1,2]])\n",
    "\n",
    "clf.fit(train_features, train_target)\n",
    "predicted = clf.predict(test_features)\n",
    "score_yes_standartization = accuracy_score(test_target, predicted)\n",
    "\n",
    "score_yes_standartization - score_no_standartization\n",
    "# X = np.array([[1, 2], [3, 4], [5, 6]])\n",
    "# y = np.array([0, 1, 0])\n",
    "# clf = Perceptron()\n",
    "# clf.fit(X, y)\n",
    "# predictions = clf.predict(X)\n",
    "# predictions\n",
    "\n",
    "\n",
    "# from sklearn.preprocessing import StandardScaler\n",
    "# scaler = StandardScaler()\n",
    "# X_train = np.array([[100.0, 2.0], [50.0, 4.0], [70.0, 6.0]])\n",
    "# X_test = np.array([[90.0, 1], [40.0, 3], [60.0, 4]])\n",
    "# X_train_scaled = scaler.fit_transform(X_train)\n",
    "# X_test_scaled = scaler.transform(X_test)"
   ]
  }
 ],
 "metadata": {
  "kernelspec": {
   "display_name": "Python 2",
   "language": "python",
   "name": "python2"
  },
  "language_info": {
   "codemirror_mode": {
    "name": "ipython",
    "version": 2
   },
   "file_extension": ".py",
   "mimetype": "text/x-python",
   "name": "python",
   "nbconvert_exporter": "python",
   "pygments_lexer": "ipython2",
   "version": "2.7.10"
  }
 },
 "nbformat": 4,
 "nbformat_minor": 0
}
